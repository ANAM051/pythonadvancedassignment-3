{
 "cells": [
  {
   "cell_type": "markdown",
   "id": "7a3d8acb",
   "metadata": {},
   "source": [
    "1. What is the concept of an abstract superclass?\n",
    "\n",
    "2. What happens when a class statement&#39;s top level contains a basic assignment statement?\n",
    "\n",
    "3. Why does a class need to manually call a superclass&#39;s __init__ method?\n",
    "\n",
    "4. How can you augment, instead of completely replacing, an inherited method?\n",
    "\n",
    "5. How is the local scope of a class different from that of a function?"
   ]
  },
  {
   "cell_type": "code",
   "execution_count": null,
   "id": "dc1d9bb7",
   "metadata": {},
   "outputs": [],
   "source": [
    "1.superclass means the the child element inherit from tha parent function"
   ]
  },
  {
   "cell_type": "markdown",
   "id": "1b399931",
   "metadata": {},
   "source": [
    "2.If a class  top level statement contains basic assignment statement it means that assignment statement is used in the subsequent functions."
   ]
  },
  {
   "cell_type": "code",
   "execution_count": null,
   "id": "9cba969f",
   "metadata": {},
   "outputs": [],
   "source": [
    "3.__init__ method is used to initialise the values of the curent directory."
   ]
  },
  {
   "cell_type": "code",
   "execution_count": null,
   "id": "b48e2d00",
   "metadata": {},
   "outputs": [],
   "source": [
    "4."
   ]
  },
  {
   "cell_type": "markdown",
   "id": "56947e8c",
   "metadata": {},
   "source": [
    "5.5.Function scope: The local scope of a function refers to the variables declared within the function. These variables are only accessible within the function and are destroyed once the function completes its execution .\n",
    "\n",
    "Class scope: The local scope of a class refers to the variables declared within the class. These variables are accessible throughout the class, including all its methods, and are destroyed once the object is destroyed"
   ]
  },
  {
   "cell_type": "code",
   "execution_count": null,
   "id": "5323d071",
   "metadata": {},
   "outputs": [],
   "source": []
  },
  {
   "cell_type": "code",
   "execution_count": null,
   "id": "677bc86b",
   "metadata": {},
   "outputs": [],
   "source": []
  }
 ],
 "metadata": {
  "kernelspec": {
   "display_name": "Python 3 (ipykernel)",
   "language": "python",
   "name": "python3"
  },
  "language_info": {
   "codemirror_mode": {
    "name": "ipython",
    "version": 3
   },
   "file_extension": ".py",
   "mimetype": "text/x-python",
   "name": "python",
   "nbconvert_exporter": "python",
   "pygments_lexer": "ipython3",
   "version": "3.9.12"
  }
 },
 "nbformat": 4,
 "nbformat_minor": 5
}
